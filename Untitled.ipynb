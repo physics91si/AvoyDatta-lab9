{
 "cells": [
  {
   "cell_type": "code",
   "execution_count": 4,
   "metadata": {
    "collapsed": true
   },
   "outputs": [],
   "source": [
    "\n",
    "    # Physics 91SI\n",
    "# Spring 2017\n",
    "# Lab 8\n",
    "\n",
    "import numpy as np\n",
    "\n",
    "class Particle:\n",
    "    \"\"\"Stores information about a particle with mass, position, and velocity.\"\"\"\n",
    "\n",
    "\n",
    "    def __init__(self, Position, M):\n",
    "        \"\"\"Create a particle with position (numpy array of len 2) and mass.\"\"\"\n",
    "        self.pos = Position   # Sets x position \"pos\" is the instance variable\n",
    "        self.m = M  # Sets mass\n",
    "        # Initial velocity and acceleration set to be zero\n",
    "        self.vel = np.zeros((2,))\n",
    "        self.acc = np.zeros((2,))\n",
    "\n",
    "class Molecule:\n",
    "\n",
    "\tdef __init__(self, position1, position2, mass1, mass2,sprConstant, equiLength):\n",
    "\t\tself.p1 = Particle(position1, mass1)\n",
    "\t\tself.p2 = Particle(position2, mass2)\n",
    "\n",
    "\t\tself.k = sprConstant\n",
    "\t\tself.LO = equiLength\n",
    "\t\t\n",
    "\t\tself.p1.pos = position1\n",
    "\t\tself.p2.pos = position2\n",
    "\n",
    "\t\tself.p1.m = mass1\n",
    "\t\tself.p2.m = mass2\n",
    "\n",
    "\tdef get_displ(self):\n",
    "\t\tdr = self.p1.pos - self.p2.pos\n",
    "\t\treturn dr\n",
    "\n",
    "\tdef get_force(self):\n",
    "\t\t\"\"\"Returns the force acting on particle 1\"\"\"\n",
    "\t\tdr = self.get_displ()\n",
    "\t\tdrMag = np.linalg.norm(dr)\n",
    "\t\tforceMag = (drMag - self.LO) * self.k\n",
    "\t\treturn forceMag * (dr / drMag) \n",
    "    "
   ]
  },
  {
   "cell_type": "code",
   "execution_count": 5,
   "metadata": {
    "collapsed": false
   },
   "outputs": [
    {
     "name": "stdout",
     "output_type": "stream",
     "text": [
      "Object `get_force` not found.\n"
     ]
    }
   ],
   "source": [
    "get_force?\n"
   ]
  }
 ],
 "metadata": {
  "kernelspec": {
   "display_name": "Python 3",
   "language": "python",
   "name": "python3"
  },
  "language_info": {
   "codemirror_mode": {
    "name": "ipython",
    "version": 3
   },
   "file_extension": ".py",
   "mimetype": "text/x-python",
   "name": "python",
   "nbconvert_exporter": "python",
   "pygments_lexer": "ipython3",
   "version": "3.6.0"
  }
 },
 "nbformat": 4,
 "nbformat_minor": 2
}
